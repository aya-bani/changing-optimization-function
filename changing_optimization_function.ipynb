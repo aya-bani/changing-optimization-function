{
  "nbformat": 4,
  "nbformat_minor": 0,
  "metadata": {
    "colab": {
      "provenance": [],
      "gpuType": "T4",
      "authorship_tag": "ABX9TyN1ZVg2eodL81YKQP/byz9x",
      "include_colab_link": true
    },
    "kernelspec": {
      "name": "python3",
      "display_name": "Python 3"
    },
    "language_info": {
      "name": "python"
    },
    "accelerator": "GPU"
  },
  "cells": [
    {
      "cell_type": "markdown",
      "metadata": {
        "id": "view-in-github",
        "colab_type": "text"
      },
      "source": [
        "<a href=\"https://colab.research.google.com/github/aya-bani/changing-optimization-function/blob/main/changing_optimization_function.ipynb\" target=\"_parent\"><img src=\"https://colab.research.google.com/assets/colab-badge.svg\" alt=\"Open In Colab\"/></a>"
      ]
    },
    {
      "cell_type": "code",
      "execution_count": 1,
      "metadata": {
        "colab": {
          "base_uri": "https://localhost:8080/"
        },
        "id": "ynW_9kbzgI4L",
        "outputId": "ad30a564-87ce-4177-f3ad-fbe871bfb4a6"
      },
      "outputs": [
        {
          "output_type": "stream",
          "name": "stdout",
          "text": [
            "Mounted at /content/drive\n"
          ]
        }
      ],
      "source": [
        "from google.colab import drive\n",
        "drive.mount('/content/drive')"
      ]
    },
    {
      "cell_type": "code",
      "source": [
        "import numpy as np, pandas as pd, tensorflow as tf, random\n",
        "from tensorflow.keras.models import Sequential\n",
        "from tensorflow.keras.layers import Dense, Input\n",
        "from tensorflow.keras.callbacks import EarlyStopping\n",
        "from tensorflow.keras import backend as K\n",
        "from sklearn.model_selection import train_test_split\n",
        "from sklearn.preprocessing import MinMaxScaler\n",
        "from sklearn.metrics import mean_squared_error, mean_absolute_error, r2_score\n",
        "from tensorflow.keras.optimizers import Adam, RMSprop, SGD\n",
        "import matplotlib.pyplot as plt\n",
        "import seaborn as sns"
      ],
      "metadata": {
        "id": "MGWud4i9gaP_"
      },
      "execution_count": 2,
      "outputs": []
    },
    {
      "cell_type": "code",
      "source": [
        "def set_seeds(seed=42):\n",
        "    np.random.seed(seed); random.seed(seed); tf.random.set_seed(seed)"
      ],
      "metadata": {
        "id": "OLdNWCtsgfJP"
      },
      "execution_count": 3,
      "outputs": []
    },
    {
      "cell_type": "code",
      "source": [
        "data = pd.read_csv(\"/content/drive/MyDrive/projet mit/data.csv\", encoding=\"latin1\")\n",
        "X = data[[\"Tf_in\",\"Ua\",\"Uw\"]].values\n",
        "y = data[\"Y\"].values.reshape(-1,1)\n",
        "\n",
        "scaler_X = MinMaxScaler()\n",
        "Xs = scaler_X.fit_transform(X)"
      ],
      "metadata": {
        "id": "cfEZcye6ghow"
      },
      "execution_count": 4,
      "outputs": []
    },
    {
      "cell_type": "code",
      "source": [
        "scaler_y = MinMaxScaler(feature_range=(0.2, 0.8))\n",
        "ys = scaler_y.fit_transform(y)\n",
        "\n",
        "X_train, X_temp, y_train, y_temp = train_test_split(Xs, ys, test_size=0.30, random_state=42)\n",
        "X_val,   X_test, y_val,   y_test = train_test_split(X_temp, y_temp, test_size=0.50, random_state=42)"
      ],
      "metadata": {
        "id": "xBjSpy-lglxn"
      },
      "execution_count": 5,
      "outputs": []
    },
    {
      "cell_type": "code",
      "source": [
        "def build_model_opt(layers, hidden_act=\"sigmoid\", out_act=\"sigmoid\", optimizer=\"adam\", lr=0.001):\n",
        "    model = Sequential()\n",
        "    model.add(Input(shape=(3,)))\n",
        "    model.add(Dense(layers[0], activation=hidden_act))\n",
        "    for n in layers[1:]:\n",
        "        model.add(Dense(n, activation=hidden_act))\n",
        "    model.add(Dense(1, activation=out_act))\n",
        "\n",
        "    # Choose optimizer\n",
        "    if optimizer == \"adam\":\n",
        "        opt = Adam(learning_rate=lr)\n",
        "    elif optimizer == \"rmsprop\":\n",
        "        opt = RMSprop(learning_rate=lr)\n",
        "    elif optimizer == \"sgd\":\n",
        "        opt = SGD(learning_rate=lr, momentum=0.9)\n",
        "    else:\n",
        "        raise ValueError(\"Unsupported optimizer\")\n",
        "\n",
        "    model.compile(optimizer=opt, loss=\"mse\", metrics=[\"mae\"])\n",
        "    return model"
      ],
      "metadata": {
        "id": "bs2Qnf-wgrVI"
      },
      "execution_count": 6,
      "outputs": []
    },
    {
      "cell_type": "code",
      "source": [
        "def evaluate_model(model, X, y):\n",
        "    y_pred = model.predict(X, verbose=0)\n",
        "    y_true = scaler_y.inverse_transform(y)\n",
        "    y_pred_inv = scaler_y.inverse_transform(y_pred)\n",
        "    return (\n",
        "        mean_squared_error(y_true, y_pred_inv),\n",
        "        mean_absolute_error(y_true, y_pred_inv),\n",
        "        r2_score(y_true, y_pred_inv)\n",
        "    )"
      ],
      "metadata": {
        "id": "qFzfGAn9gvTP"
      },
      "execution_count": 7,
      "outputs": []
    },
    {
      "cell_type": "code",
      "source": [
        "def sweep_optims(layers=[10,5], acts=\"sigmoid\"):\n",
        "    results = []\n",
        "    for opt in [\"adam\",\"rmsprop\",\"sgd\"]:\n",
        "        for lr in [0.01, 0.001, 0.0005, 0.0001]:\n",
        "            set_seeds(42); K.clear_session()\n",
        "            model = build_model_opt(layers, hidden_act=acts, out_act=\"sigmoid\", optimizer=opt, lr=lr)\n",
        "\n",
        "            es = EarlyStopping(monitor=\"val_loss\", patience=20, restore_best_weights=True)\n",
        "            hist = model.fit(X_train, y_train,\n",
        "                             validation_data=(X_val, y_val),\n",
        "                             epochs=1000, batch_size=8, verbose=0,\n",
        "                             callbacks=[es])\n",
        "\n",
        "            tr = evaluate_model(model, X_train, y_train)\n",
        "            va = evaluate_model(model, X_val, y_val)\n",
        "            te = evaluate_model(model, X_test, y_test)\n",
        "\n",
        "            results.append({\n",
        "                \"optimizer\": opt,\n",
        "                \"lr\": lr,\n",
        "                \"train_r2\": tr[2], \"val_r2\": va[2], \"test_r2\": te[2],\n",
        "                \"val_mse\": va[0], \"test_mse\": te[0],\n",
        "                \"val_mae\": va[1], \"test_mae\": te[1],\n",
        "                \"epochs_used\": len(hist.history[\"loss\"])\n",
        "            })\n",
        "    return pd.DataFrame(results)\n"
      ],
      "metadata": {
        "id": "5LKFY5FEgygn"
      },
      "execution_count": 8,
      "outputs": []
    },
    {
      "cell_type": "code",
      "source": [
        "opt_results = sweep_optims(layers=[10,5], acts=\"sigmoid\")\n",
        "print(\"\\n=== Optimizer + LR Results (Top 5 by Test R²) ===\")\n",
        "print(opt_results.sort_values(\"test_r2\", ascending=False).head())"
      ],
      "metadata": {
        "colab": {
          "base_uri": "https://localhost:8080/"
        },
        "id": "5DzrVe3Kg2fI",
        "outputId": "5cf9c569-7915-40e3-d16c-7ca6c01dd8c0"
      },
      "execution_count": 9,
      "outputs": [
        {
          "output_type": "stream",
          "name": "stderr",
          "text": [
            "WARNING:tensorflow:5 out of the last 9 calls to <function TensorFlowTrainer.make_predict_function.<locals>.one_step_on_data_distributed at 0x7f5d100927a0> triggered tf.function retracing. Tracing is expensive and the excessive number of tracings could be due to (1) creating @tf.function repeatedly in a loop, (2) passing tensors with different shapes, (3) passing Python objects instead of tensors. For (1), please define your @tf.function outside of the loop. For (2), @tf.function has reduce_retracing=True option that can avoid unnecessary retracing. For (3), please refer to https://www.tensorflow.org/guide/function#controlling_retracing and https://www.tensorflow.org/api_docs/python/tf/function for  more details.\n",
            "WARNING:tensorflow:6 out of the last 10 calls to <function TensorFlowTrainer.make_predict_function.<locals>.one_step_on_data_distributed at 0x7f5d100927a0> triggered tf.function retracing. Tracing is expensive and the excessive number of tracings could be due to (1) creating @tf.function repeatedly in a loop, (2) passing tensors with different shapes, (3) passing Python objects instead of tensors. For (1), please define your @tf.function outside of the loop. For (2), @tf.function has reduce_retracing=True option that can avoid unnecessary retracing. For (3), please refer to https://www.tensorflow.org/guide/function#controlling_retracing and https://www.tensorflow.org/api_docs/python/tf/function for  more details.\n"
          ]
        },
        {
          "output_type": "stream",
          "name": "stdout",
          "text": [
            "\n",
            "=== Optimizer + LR Results (Top 5 by Test R²) ===\n",
            "  optimizer      lr  train_r2    val_r2   test_r2   val_mse  test_mse  \\\n",
            "0      adam  0.0100  0.892984  0.595818  0.892887  0.011851  0.003357   \n",
            "1      adam  0.0010  0.857275  0.562207  0.889160  0.012836  0.003474   \n",
            "5   rmsprop  0.0010  0.838649  0.553779  0.846640  0.013083  0.004806   \n",
            "2      adam  0.0005  0.831945  0.550189  0.829381  0.013189  0.005347   \n",
            "4   rmsprop  0.0100  0.786522  0.607053  0.827627  0.011521  0.005402   \n",
            "\n",
            "    val_mae  test_mae  epochs_used  \n",
            "0  0.075245  0.049982          274  \n",
            "1  0.075279  0.049921         1000  \n",
            "5  0.075041  0.057287          661  \n",
            "2  0.074687  0.060492         1000  \n",
            "4  0.074648  0.063802           79  \n"
          ]
        }
      ]
    },
    {
      "cell_type": "code",
      "source": [
        "# -----------------------------\n",
        "# Heatmap for visualization\n",
        "# -----------------------------\n",
        "pivot = opt_results.pivot(index=\"optimizer\", columns=\"lr\", values=\"test_r2\")\n",
        "\n",
        "plt.figure(figsize=(8,6))\n",
        "sns.heatmap(pivot, annot=True, fmt=\".3f\", cmap=\"viridis\")\n",
        "plt.title(\"Test R² for Different Optimizers & Learning Rates\")\n",
        "plt.ylabel(\"Optimizer\")\n",
        "plt.xlabel(\"Learning Rate\")\n",
        "plt.show()\n"
      ],
      "metadata": {
        "colab": {
          "base_uri": "https://localhost:8080/",
          "height": 564
        },
        "id": "qoPp6_17g8Fx",
        "outputId": "41e18736-784c-482f-944f-e3378adaac65"
      },
      "execution_count": 14,
      "outputs": [
        {
          "output_type": "display_data",
          "data": {
            "text/plain": [
              "<Figure size 800x600 with 2 Axes>"
            ],
            "image/png": "[encoded data removed]"
          },
          "metadata": {}
        }
      ]
    }
  ]
}